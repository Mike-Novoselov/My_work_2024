{
 "cells": [
  {
   "cell_type": "code",
   "execution_count": 1,
   "outputs": [
    {
     "name": "stdout",
     "output_type": "stream",
     "text": [
      "Сейчас в городе Абакан -5 °C\n",
      "Ощущается как -5 °C\n",
      "ясно\n"
     ]
    }
   ],
   "source": [
    "import requests\n",
    "from pprint import pprint\n",
    "\n",
    "city = 'Абакан'\n",
    "\n",
    "url = f'https://api.openweathermap.org/data/2.5/weather?q={city}&units=metric&lang=ru&appid=79d1ca96933b0328e1c7e3e7a26cb347'\n",
    "\n",
    "weather_data = requests.get(url).json()\n",
    "# pprint(weather_data), print('\\n')\n",
    "\n",
    "temperature = round(weather_data['main']['temp'])\n",
    "temperature_feel = round(weather_data['main']['feels_like'])\n",
    "\n",
    "print('Сейчас в городе', city, int(temperature), '°C')\n",
    "print('Ощущается как', int(temperature_feel), '°C')\n",
    "print(weather_data['weather'][0]['description'])\n",
    "# print(weather_data['weather'][1]['description'])"
   ],
   "metadata": {
    "collapsed": false,
    "ExecuteTime": {
     "end_time": "2024-03-27T02:18:27.138346600Z",
     "start_time": "2024-03-27T02:18:26.550646300Z"
    }
   },
   "id": "7e21c6b0e6c1dc34"
  },
  {
   "cell_type": "code",
   "execution_count": 4,
   "outputs": [
    {
     "name": "stdout",
     "output_type": "stream",
     "text": [
      "{'base': 'stations',\n",
      " 'clouds': {'all': 0},\n",
      " 'cod': 200,\n",
      " 'coord': {'lat': 53.7156, 'lon': 91.4292},\n",
      " 'dt': 1709796447,\n",
      " 'id': 1512236,\n",
      " 'main': {'feels_like': -0.11,\n",
      "          'humidity': 48,\n",
      "          'pressure': 1015,\n",
      "          'temp': 2.01,\n",
      "          'temp_max': 2.01,\n",
      "          'temp_min': 2.01},\n",
      " 'name': 'Абакан',\n",
      " 'sys': {'country': 'RU',\n",
      "         'id': 8942,\n",
      "         'sunrise': 1709771297,\n",
      "         'sunset': 1709811755,\n",
      "         'type': 1},\n",
      " 'timezone': 25200,\n",
      " 'visibility': 10000,\n",
      " 'weather': [{'description': 'ясно',\n",
      "              'icon': '01d',\n",
      "              'id': 800,\n",
      "              'main': 'Clear'}],\n",
      " 'wind': {'deg': 170, 'speed': 2}}\n"
     ]
    },
    {
     "data": {
      "text/plain": "(None, None)"
     },
     "execution_count": 4,
     "metadata": {},
     "output_type": "execute_result"
    }
   ],
   "source": [
    "pprint(weather_data), print('\\n')"
   ],
   "metadata": {
    "collapsed": false,
    "ExecuteTime": {
     "end_time": "2024-03-07T07:29:37.601829900Z",
     "start_time": "2024-03-07T07:29:37.571802100Z"
    }
   },
   "id": "3d8c86ca1d853166"
  },
  {
   "cell_type": "code",
   "execution_count": 1,
   "outputs": [],
   "source": [
    "x= 'https://api.openweathermap.org/data/2.5/weather?lat=40.712776&lon=-74.005974&appid=2c2e4bed17bf6cdf6a732f31601bb788&units=imperial'"
   ],
   "metadata": {
    "collapsed": false,
    "ExecuteTime": {
     "end_time": "2024-02-26T07:52:53.207686600Z",
     "start_time": "2024-02-26T07:52:53.198678100Z"
    }
   },
   "id": "f84946a53323cd9c"
  },
  {
   "cell_type": "code",
   "execution_count": 2,
   "outputs": [
    {
     "ename": "KeyError",
     "evalue": "'current'",
     "output_type": "error",
     "traceback": [
      "\u001B[1;31m---------------------------------------------------------------------------\u001B[0m",
      "\u001B[1;31mKeyError\u001B[0m                                  Traceback (most recent call last)",
      "Cell \u001B[1;32mIn[2], line 28\u001B[0m\n\u001B[0;32m     22\u001B[0m             text \u001B[38;5;241m+\u001B[39m\u001B[38;5;241m=\u001B[39m \u001B[38;5;124mf\u001B[39m\u001B[38;5;124m'\u001B[39m\u001B[38;5;124mСнегопад \u001B[39m\u001B[38;5;132;01m{\u001B[39;00mr[\u001B[38;5;124m\"\u001B[39m\u001B[38;5;124msnowfall\u001B[39m\u001B[38;5;124m\"\u001B[39m]\u001B[38;5;132;01m}\u001B[39;00m\u001B[38;5;124m мм.\u001B[39m\u001B[38;5;130;01m\\n\u001B[39;00m\u001B[38;5;124m'\u001B[39m\n\u001B[0;32m     24\u001B[0m     \u001B[38;5;28;01mreturn\u001B[39;00m text\n\u001B[1;32m---> 28\u001B[0m pprint(\u001B[43mcurrent_weather\u001B[49m\u001B[43m(\u001B[49m\u001B[38;5;241;43m53.7156\u001B[39;49m\u001B[43m,\u001B[49m\u001B[43m \u001B[49m\u001B[38;5;241;43m91.4292\u001B[39;49m\u001B[43m)\u001B[49m)\n",
      "Cell \u001B[1;32mIn[2], line 7\u001B[0m, in \u001B[0;36mcurrent_weather\u001B[1;34m(lat, lon)\u001B[0m\n\u001B[0;32m      5\u001B[0m \u001B[38;5;28;01mdef\u001B[39;00m \u001B[38;5;21mcurrent_weather\u001B[39m(lat, lon):\n\u001B[0;32m      6\u001B[0m     url \u001B[38;5;241m=\u001B[39m \u001B[38;5;124mf\u001B[39m\u001B[38;5;124m\"\u001B[39m\u001B[38;5;124mhttps://api.open-meteo.com/v1/forecast?latitude=\u001B[39m\u001B[38;5;132;01m{\u001B[39;00mlat\u001B[38;5;132;01m}\u001B[39;00m\u001B[38;5;124m&longitude=\u001B[39m\u001B[38;5;132;01m{\u001B[39;00mlon\u001B[38;5;132;01m}\u001B[39;00m\u001B[38;5;124m&daily=temperature_2m_max,temperature_2m_min,wind_speed_10m_max&timezone=Asia%2FBangkok&forecast_days=3\u001B[39m\u001B[38;5;124m\"\u001B[39m\n\u001B[1;32m----> 7\u001B[0m     r \u001B[38;5;241m=\u001B[39m \u001B[43mrequests\u001B[49m\u001B[38;5;241;43m.\u001B[39;49m\u001B[43mget\u001B[49m\u001B[43m(\u001B[49m\u001B[43murl\u001B[49m\u001B[43m)\u001B[49m\u001B[38;5;241;43m.\u001B[39;49m\u001B[43mjson\u001B[49m\u001B[43m(\u001B[49m\u001B[43m)\u001B[49m\u001B[43m[\u001B[49m\u001B[38;5;124;43m'\u001B[39;49m\u001B[38;5;124;43mcurrent\u001B[39;49m\u001B[38;5;124;43m'\u001B[39;49m\u001B[43m]\u001B[49m\n\u001B[0;32m      9\u001B[0m     text \u001B[38;5;241m=\u001B[39m \u001B[38;5;124m\"\u001B[39m\u001B[38;5;124m\"\u001B[39m\n\u001B[0;32m     10\u001B[0m     text \u001B[38;5;241m+\u001B[39m\u001B[38;5;241m=\u001B[39m \u001B[38;5;124mf\u001B[39m\u001B[38;5;124m'\u001B[39m\u001B[38;5;124mТемпература: \u001B[39m\u001B[38;5;132;01m{\u001B[39;00mr[\u001B[38;5;124m\"\u001B[39m\u001B[38;5;124mtemperature_2m\u001B[39m\u001B[38;5;124m\"\u001B[39m]\u001B[38;5;132;01m}\u001B[39;00m\u001B[38;5;124m °C\u001B[39m\u001B[38;5;130;01m\\n\u001B[39;00m\u001B[38;5;124m'\u001B[39m\n",
      "\u001B[1;31mKeyError\u001B[0m: 'current'"
     ]
    }
   ],
   "source": [
    "import requests\n",
    "from pprint import pprint\n",
    "\n",
    "\n",
    "def current_weather(lat, lon):\n",
    "    url = f\"https://api.open-meteo.com/v1/forecast?latitude={lat}&longitude={lon}&daily=temperature_2m_max,temperature_2m_min,wind_speed_10m_max&timezone=Asia%2FBangkok&forecast_days=3\"\n",
    "    r = requests.get(url).json()['current']\n",
    "\n",
    "    text = \"\"\n",
    "    text += f'Температура: {r[\"temperature_2m\"]} °C\\n'\n",
    "    text += f'Влажность: {r[\"relative_humidity_2m\"]} %\\n'\n",
    "    text += f'Ощущаемая температура: {r[\"apparent_temperature\"]} °C\\n'\n",
    "\n",
    "    if r[\"precipitation\"] == 0:\n",
    "        text += \"Осадеов нет\\n\"\n",
    "    else:\n",
    "        if r[\"rain\"] != 0:\n",
    "            text += f'Дождь {r[\"rain\"]} мм.\\n'\n",
    "        if r[\"showers\"] != 0:\n",
    "            text += f'Ливень {r[\"showers\"]} мм.\\n'\n",
    "        if r[\"snowfall\"] != 0:\n",
    "            text += f'Снегопад {r[\"snowfall\"]} мм.\\n'\n",
    "\n",
    "    return text\n",
    "\n",
    "\n",
    "\n",
    "pprint(current_weather(53.7156, 91.4292))"
   ],
   "metadata": {
    "collapsed": false,
    "ExecuteTime": {
     "end_time": "2024-03-07T07:29:02.299490500Z",
     "start_time": "2024-03-07T07:29:01.590119Z"
    }
   },
   "id": "5cb0bc7fd1a08210"
  },
  {
   "cell_type": "code",
   "execution_count": 11,
   "outputs": [],
   "source": [
    "# https://api.open-meteo.com/v1/forecast?latitude=53.7156&longitude=91.4292&daily=temperature_2m_max,temperature_2m_min,wind_speed_10m_max&timezone=Asia%2FBangkok&forecast_days=3"
   ],
   "metadata": {
    "collapsed": false,
    "ExecuteTime": {
     "end_time": "2024-02-28T06:23:40.466970700Z",
     "start_time": "2024-02-28T06:23:40.460158Z"
    }
   },
   "id": "3b4f54f92242d918"
  },
  {
   "cell_type": "code",
   "execution_count": null,
   "outputs": [],
   "source": [],
   "metadata": {
    "collapsed": false
   },
   "id": "729f1a1747549cc3"
  },
  {
   "cell_type": "code",
   "execution_count": 2,
   "outputs": [
    {
     "name": "stdout",
     "output_type": "stream",
     "text": [
      "Прогноз погоды на 2024-05-21\n",
      "Максимальная температура: 18.7\n",
      "Минимальная температура: 12.8\n",
      "Скорость ветра: 10.0\n",
      "\n",
      "Прогноз погоды на 2024-05-22\n",
      "Максимальная температура: 20.8\n",
      "Минимальная температура: 11.9\n",
      "Скорость ветра: 18.8\n",
      "\n",
      "Прогноз погоды на 2024-05-23\n",
      "Максимальная температура: 19.8\n",
      "Минимальная температура: 10.4\n",
      "Скорость ветра: 16.9\n"
     ]
    }
   ],
   "source": [
    "import requests\n",
    "\n",
    "def current_weather(lat, lon):\n",
    "    url = f\"https://api.open-meteo.com/v1/forecast?latitude={lat}&longitude={lon}&daily=temperature_2m_max,temperature_2m_min,wind_speed_10m_max&timezone=Asia%2FBangkok&forecast_days=3\"\n",
    "    r = requests.get(url).json()['daily']\n",
    "    return format_weather_forecast(r)\n",
    "\n",
    "def format_weather_forecast(weather_data):\n",
    "    forecast_text = \"\"\n",
    "    for i in range(len(weather_data['time'])):\n",
    "        forecast_text += f\"Прогноз погоды на {weather_data['time'][i]}\\n\"\n",
    "        forecast_text += f\"Максимальная температура: {weather_data['temperature_2m_max'][i]}\\n\"\n",
    "        forecast_text += f\"Минимальная температура: {weather_data['temperature_2m_min'][i]}\\n\"\n",
    "        forecast_text += f\"Скорость ветра: {weather_data['wind_speed_10m_max'][i]}\\n\\n\"\n",
    "    return forecast_text\n",
    "\n",
    "print(current_weather(53.7156, 91.4292))\n"
   ],
   "metadata": {
    "collapsed": false,
    "ExecuteTime": {
     "end_time": "2024-05-21T03:50:11.293274300Z",
     "start_time": "2024-05-21T03:50:10.842247900Z"
    }
   },
   "id": "b6ec6d99e56e03c9"
  },
  {
   "cell_type": "code",
   "execution_count": null,
   "outputs": [],
   "source": [],
   "metadata": {
    "collapsed": false
   },
   "id": "8e5d14724c9ab5c"
  },
  {
   "cell_type": "code",
   "execution_count": null,
   "outputs": [],
   "source": [],
   "metadata": {
    "collapsed": false
   },
   "id": "ba3178c49e38a039"
  }
 ],
 "metadata": {
  "kernelspec": {
   "display_name": "Python 3",
   "language": "python",
   "name": "python3"
  },
  "language_info": {
   "codemirror_mode": {
    "name": "ipython",
    "version": 2
   },
   "file_extension": ".py",
   "mimetype": "text/x-python",
   "name": "python",
   "nbconvert_exporter": "python",
   "pygments_lexer": "ipython2",
   "version": "2.7.6"
  }
 },
 "nbformat": 4,
 "nbformat_minor": 5
}
